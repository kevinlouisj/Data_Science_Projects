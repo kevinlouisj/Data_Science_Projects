{
 "cells": [
  {
   "cell_type": "markdown",
   "id": "36b32fce",
   "metadata": {
    "papermill": {
     "duration": 0.027622,
     "end_time": "2022-03-02T15:14:39.990631",
     "exception": false,
     "start_time": "2022-03-02T15:14:39.963009",
     "status": "completed"
    },
    "tags": []
   },
   "source": [
    "**This notebook is an exercise in the [SQL](https://www.kaggle.com/learn/intro-to-sql) course.  You can reference the tutorial at [this link](https://www.kaggle.com/dansbecker/as-with).**\n",
    "\n",
    "---\n"
   ]
  },
  {
   "cell_type": "markdown",
   "id": "4a0a807f",
   "metadata": {
    "papermill": {
     "duration": 0.022301,
     "end_time": "2022-03-02T15:14:40.040641",
     "exception": false,
     "start_time": "2022-03-02T15:14:40.018340",
     "status": "completed"
    },
    "tags": []
   },
   "source": [
    "# Introduction\n",
    "\n",
    "You are getting to the point where you can own an analysis from beginning to end. So you'll do more data exploration in this exercise than you've done before.  Before you get started, run the following set-up code as usual. "
   ]
  },
  {
   "cell_type": "code",
   "execution_count": 1,
   "id": "666ce898",
   "metadata": {
    "execution": {
     "iopub.execute_input": "2022-03-02T15:14:40.091325Z",
     "iopub.status.busy": "2022-03-02T15:14:40.090293Z",
     "iopub.status.idle": "2022-03-02T15:14:43.353566Z",
     "shell.execute_reply": "2022-03-02T15:14:43.354190Z",
     "shell.execute_reply.started": "2022-03-02T13:16:44.459687Z"
    },
    "papermill": {
     "duration": 3.289894,
     "end_time": "2022-03-02T15:14:43.354553",
     "exception": false,
     "start_time": "2022-03-02T15:14:40.064659",
     "status": "completed"
    },
    "tags": []
   },
   "outputs": [
    {
     "name": "stdout",
     "output_type": "stream",
     "text": [
      "Using Kaggle's public dataset BigQuery integration.\n"
     ]
    },
    {
     "name": "stderr",
     "output_type": "stream",
     "text": [
      "/opt/conda/lib/python3.7/site-packages/google/cloud/bigquery/client.py:440: UserWarning: Cannot create BigQuery Storage client, the dependency google-cloud-bigquery-storage is not installed.\n",
      "  \"Cannot create BigQuery Storage client, the dependency \"\n"
     ]
    },
    {
     "name": "stdout",
     "output_type": "stream",
     "text": [
      "Setup Complete\n"
     ]
    }
   ],
   "source": [
    "# Set up feedback system\n",
    "from learntools.core import binder\n",
    "binder.bind(globals())\n",
    "from learntools.sql.ex5 import *\n",
    "print(\"Setup Complete\")"
   ]
  },
  {
   "cell_type": "markdown",
   "id": "38471c18",
   "metadata": {
    "papermill": {
     "duration": 0.022753,
     "end_time": "2022-03-02T15:14:43.401059",
     "exception": false,
     "start_time": "2022-03-02T15:14:43.378306",
     "status": "completed"
    },
    "tags": []
   },
   "source": [
    "You'll work with a dataset about taxi trips in the city of Chicago. Run the cell below to fetch the `chicago_taxi_trips` dataset."
   ]
  },
  {
   "cell_type": "code",
   "execution_count": 2,
   "id": "59cce24e",
   "metadata": {
    "execution": {
     "iopub.execute_input": "2022-03-02T15:14:43.449697Z",
     "iopub.status.busy": "2022-03-02T15:14:43.449096Z",
     "iopub.status.idle": "2022-03-02T15:14:43.673884Z",
     "shell.execute_reply": "2022-03-02T15:14:43.674426Z",
     "shell.execute_reply.started": "2022-03-02T13:22:40.129618Z"
    },
    "papermill": {
     "duration": 0.250703,
     "end_time": "2022-03-02T15:14:43.674599",
     "exception": false,
     "start_time": "2022-03-02T15:14:43.423896",
     "status": "completed"
    },
    "tags": []
   },
   "outputs": [
    {
     "name": "stdout",
     "output_type": "stream",
     "text": [
      "Using Kaggle's public dataset BigQuery integration.\n"
     ]
    }
   ],
   "source": [
    "from google.cloud import bigquery\n",
    "\n",
    "# Create a \"Client\" object\n",
    "client = bigquery.Client()\n",
    "\n",
    "# Construct a reference to the \"chicago_taxi_trips\" dataset\n",
    "dataset_ref = client.dataset(\"chicago_taxi_trips\", project=\"bigquery-public-data\")\n",
    "\n",
    "# API request - fetch the dataset\n",
    "dataset = client.get_dataset(dataset_ref)\n"
   ]
  },
  {
   "cell_type": "markdown",
   "id": "74bffee8",
   "metadata": {
    "papermill": {
     "duration": 0.022967,
     "end_time": "2022-03-02T15:14:43.720770",
     "exception": false,
     "start_time": "2022-03-02T15:14:43.697803",
     "status": "completed"
    },
    "tags": []
   },
   "source": [
    "# Exercises\n",
    "\n",
    "You are curious how much slower traffic moves when traffic volume is high. This involves a few steps.\n",
    "\n",
    "### 1) Find the data\n",
    "Before you can access the data, you need to find the table name with the data.\n",
    "\n",
    "*Hint*: Tab completion is helpful whenever you can't remember a command. Type `client.` and then hit the tab key. Don't forget the period before hitting tab."
   ]
  },
  {
   "cell_type": "code",
   "execution_count": 3,
   "id": "02634727",
   "metadata": {
    "execution": {
     "iopub.execute_input": "2022-03-02T15:14:43.770248Z",
     "iopub.status.busy": "2022-03-02T15:14:43.769285Z",
     "iopub.status.idle": "2022-03-02T15:14:43.966739Z",
     "shell.execute_reply": "2022-03-02T15:14:43.967273Z",
     "shell.execute_reply.started": "2022-03-02T13:41:38.077909Z"
    },
    "papermill": {
     "duration": 0.224219,
     "end_time": "2022-03-02T15:14:43.967441",
     "exception": false,
     "start_time": "2022-03-02T15:14:43.743222",
     "status": "completed"
    },
    "tags": []
   },
   "outputs": [
    {
     "name": "stdout",
     "output_type": "stream",
     "text": [
      "taxi_trips\n"
     ]
    }
   ],
   "source": [
    "# Your code here to find the table name\n",
    "table = list(client.list_tables(dataset))\n",
    "for table in table:\n",
    "    print(table.table_id)"
   ]
  },
  {
   "cell_type": "code",
   "execution_count": 4,
   "id": "04c9a978",
   "metadata": {
    "execution": {
     "iopub.execute_input": "2022-03-02T15:14:44.017238Z",
     "iopub.status.busy": "2022-03-02T15:14:44.016402Z",
     "iopub.status.idle": "2022-03-02T15:14:44.025200Z",
     "shell.execute_reply": "2022-03-02T15:14:44.025803Z",
     "shell.execute_reply.started": "2022-03-02T13:32:50.567066Z"
    },
    "papermill": {
     "duration": 0.035104,
     "end_time": "2022-03-02T15:14:44.025968",
     "exception": false,
     "start_time": "2022-03-02T15:14:43.990864",
     "status": "completed"
    },
    "tags": []
   },
   "outputs": [
    {
     "data": {
      "application/javascript": [
       "parent.postMessage({\"jupyterEvent\": \"custom.exercise_interaction\", \"data\": {\"outcomeType\": 1, \"valueTowardsCompletion\": 0.16666666666666666, \"interactionType\": 1, \"questionType\": 1, \"questionId\": \"1_GetTableName\", \"learnToolsVersion\": \"0.3.4\", \"failureMessage\": \"\", \"exceptionClass\": \"\", \"trace\": \"\"}}, \"*\")"
      ],
      "text/plain": [
       "<IPython.core.display.Javascript object>"
      ]
     },
     "metadata": {},
     "output_type": "display_data"
    },
    {
     "data": {
      "text/markdown": [
       "<span style=\"color:#33cc33\">Correct</span>"
      ],
      "text/plain": [
       "Correct"
      ]
     },
     "metadata": {},
     "output_type": "display_data"
    }
   ],
   "source": [
    "# Write the table name as a string below\n",
    "table_name = \"taxi_trips\"\n",
    "\n",
    "# Check your answer\n",
    "q_1.check()"
   ]
  },
  {
   "cell_type": "markdown",
   "id": "4f038741",
   "metadata": {
    "papermill": {
     "duration": 0.02417,
     "end_time": "2022-03-02T15:14:44.074909",
     "exception": false,
     "start_time": "2022-03-02T15:14:44.050739",
     "status": "completed"
    },
    "tags": []
   },
   "source": [
    "For the solution, uncomment the line below."
   ]
  },
  {
   "cell_type": "code",
   "execution_count": 5,
   "id": "30f1c689",
   "metadata": {
    "execution": {
     "iopub.execute_input": "2022-03-02T15:14:44.129157Z",
     "iopub.status.busy": "2022-03-02T15:14:44.128195Z",
     "iopub.status.idle": "2022-03-02T15:14:44.131672Z",
     "shell.execute_reply": "2022-03-02T15:14:44.132157Z"
    },
    "papermill": {
     "duration": 0.031068,
     "end_time": "2022-03-02T15:14:44.132319",
     "exception": false,
     "start_time": "2022-03-02T15:14:44.101251",
     "status": "completed"
    },
    "tags": []
   },
   "outputs": [],
   "source": [
    "#q_1.solution()"
   ]
  },
  {
   "cell_type": "markdown",
   "id": "d9afa4e1",
   "metadata": {
    "papermill": {
     "duration": 0.024789,
     "end_time": "2022-03-02T15:14:44.182118",
     "exception": false,
     "start_time": "2022-03-02T15:14:44.157329",
     "status": "completed"
    },
    "tags": []
   },
   "source": [
    "### 2) Peek at the data\n",
    "\n",
    "Use the next code cell to peek at the top few rows of the data. Inspect the data and see if any issues with data quality are immediately obvious. "
   ]
  },
  {
   "cell_type": "code",
   "execution_count": 6,
   "id": "940b7fb0",
   "metadata": {
    "execution": {
     "iopub.execute_input": "2022-03-02T15:14:44.235726Z",
     "iopub.status.busy": "2022-03-02T15:14:44.234838Z",
     "iopub.status.idle": "2022-03-02T15:14:44.985436Z",
     "shell.execute_reply": "2022-03-02T15:14:44.985975Z",
     "shell.execute_reply.started": "2022-03-02T13:37:34.326725Z"
    },
    "papermill": {
     "duration": 0.778739,
     "end_time": "2022-03-02T15:14:44.986127",
     "exception": false,
     "start_time": "2022-03-02T15:14:44.207388",
     "status": "completed"
    },
    "tags": []
   },
   "outputs": [
    {
     "name": "stderr",
     "output_type": "stream",
     "text": [
      "/opt/conda/lib/python3.7/site-packages/ipykernel_launcher.py:4: UserWarning: Cannot use bqstorage_client if max_results is set, reverting to fetching data with the tabledata.list endpoint.\n",
      "  after removing the cwd from sys.path.\n"
     ]
    },
    {
     "data": {
      "text/html": [
       "<div>\n",
       "<style scoped>\n",
       "    .dataframe tbody tr th:only-of-type {\n",
       "        vertical-align: middle;\n",
       "    }\n",
       "\n",
       "    .dataframe tbody tr th {\n",
       "        vertical-align: top;\n",
       "    }\n",
       "\n",
       "    .dataframe thead th {\n",
       "        text-align: right;\n",
       "    }\n",
       "</style>\n",
       "<table border=\"1\" class=\"dataframe\">\n",
       "  <thead>\n",
       "    <tr style=\"text-align: right;\">\n",
       "      <th></th>\n",
       "      <th>unique_key</th>\n",
       "      <th>taxi_id</th>\n",
       "      <th>trip_start_timestamp</th>\n",
       "      <th>trip_end_timestamp</th>\n",
       "      <th>trip_seconds</th>\n",
       "      <th>trip_miles</th>\n",
       "      <th>pickup_census_tract</th>\n",
       "      <th>dropoff_census_tract</th>\n",
       "      <th>pickup_community_area</th>\n",
       "      <th>dropoff_community_area</th>\n",
       "      <th>...</th>\n",
       "      <th>extras</th>\n",
       "      <th>trip_total</th>\n",
       "      <th>payment_type</th>\n",
       "      <th>company</th>\n",
       "      <th>pickup_latitude</th>\n",
       "      <th>pickup_longitude</th>\n",
       "      <th>pickup_location</th>\n",
       "      <th>dropoff_latitude</th>\n",
       "      <th>dropoff_longitude</th>\n",
       "      <th>dropoff_location</th>\n",
       "    </tr>\n",
       "  </thead>\n",
       "  <tbody>\n",
       "    <tr>\n",
       "      <th>0</th>\n",
       "      <td>658aac74e3f3830aaaa54e4fe048a91d7233d12f</td>\n",
       "      <td>2568c6e490992798e9b945d3655d7f4fd56f218f3c5424...</td>\n",
       "      <td>2014-03-29 15:45:00+00:00</td>\n",
       "      <td>2014-03-29 15:45:00+00:00</td>\n",
       "      <td>0</td>\n",
       "      <td>0.0</td>\n",
       "      <td>NaN</td>\n",
       "      <td>NaN</td>\n",
       "      <td>NaN</td>\n",
       "      <td>NaN</td>\n",
       "      <td>...</td>\n",
       "      <td>0.0</td>\n",
       "      <td>13.98</td>\n",
       "      <td>Credit Card</td>\n",
       "      <td>Chicago Elite Cab Corp. (Chicago Carriag</td>\n",
       "      <td>NaN</td>\n",
       "      <td>NaN</td>\n",
       "      <td>None</td>\n",
       "      <td>NaN</td>\n",
       "      <td>NaN</td>\n",
       "      <td>None</td>\n",
       "    </tr>\n",
       "    <tr>\n",
       "      <th>1</th>\n",
       "      <td>e648b63342d4a601ce8bcb15c84f3fae2e41bd84</td>\n",
       "      <td>757187b0539a5d45de2b1c4df145331b4f6150e3f882db...</td>\n",
       "      <td>2014-04-03 06:15:00+00:00</td>\n",
       "      <td>2014-04-03 06:15:00+00:00</td>\n",
       "      <td>0</td>\n",
       "      <td>0.0</td>\n",
       "      <td>NaN</td>\n",
       "      <td>NaN</td>\n",
       "      <td>NaN</td>\n",
       "      <td>NaN</td>\n",
       "      <td>...</td>\n",
       "      <td>0.0</td>\n",
       "      <td>17.85</td>\n",
       "      <td>Credit Card</td>\n",
       "      <td>Chicago Elite Cab Corp. (Chicago Carriag</td>\n",
       "      <td>NaN</td>\n",
       "      <td>NaN</td>\n",
       "      <td>None</td>\n",
       "      <td>NaN</td>\n",
       "      <td>NaN</td>\n",
       "      <td>None</td>\n",
       "    </tr>\n",
       "    <tr>\n",
       "      <th>2</th>\n",
       "      <td>db9ce25a28ac7eeedcd6aa5081f59a0e9b4a96da</td>\n",
       "      <td>8af866321dea9cae50902f4d2a92fe44b512f024e65e2b...</td>\n",
       "      <td>2014-12-09 19:15:00+00:00</td>\n",
       "      <td>2014-12-09 19:15:00+00:00</td>\n",
       "      <td>0</td>\n",
       "      <td>0.0</td>\n",
       "      <td>NaN</td>\n",
       "      <td>NaN</td>\n",
       "      <td>NaN</td>\n",
       "      <td>NaN</td>\n",
       "      <td>...</td>\n",
       "      <td>0.0</td>\n",
       "      <td>14.70</td>\n",
       "      <td>Credit Card</td>\n",
       "      <td>Chicago Elite Cab Corp. (Chicago Carriag</td>\n",
       "      <td>NaN</td>\n",
       "      <td>NaN</td>\n",
       "      <td>None</td>\n",
       "      <td>NaN</td>\n",
       "      <td>NaN</td>\n",
       "      <td>None</td>\n",
       "    </tr>\n",
       "    <tr>\n",
       "      <th>3</th>\n",
       "      <td>bc795438ea79132877c03c147bb3a7de26e3ceba</td>\n",
       "      <td>f4ae9b2c8c8f5d2a1cc1e7864cc14e76a252a4236b9a4f...</td>\n",
       "      <td>2014-04-03 08:45:00+00:00</td>\n",
       "      <td>2014-04-03 08:45:00+00:00</td>\n",
       "      <td>0</td>\n",
       "      <td>0.0</td>\n",
       "      <td>NaN</td>\n",
       "      <td>NaN</td>\n",
       "      <td>NaN</td>\n",
       "      <td>NaN</td>\n",
       "      <td>...</td>\n",
       "      <td>0.0</td>\n",
       "      <td>51.58</td>\n",
       "      <td>Credit Card</td>\n",
       "      <td>T.A.S. - Payment Only</td>\n",
       "      <td>NaN</td>\n",
       "      <td>NaN</td>\n",
       "      <td>None</td>\n",
       "      <td>NaN</td>\n",
       "      <td>NaN</td>\n",
       "      <td>None</td>\n",
       "    </tr>\n",
       "    <tr>\n",
       "      <th>4</th>\n",
       "      <td>76f299c3e72a68920f0a4e327acbced7aaf52a9b</td>\n",
       "      <td>26098afc7c6fc2d9e067c502b4a101289d018978ba9157...</td>\n",
       "      <td>2014-03-30 12:45:00+00:00</td>\n",
       "      <td>2014-03-30 12:45:00+00:00</td>\n",
       "      <td>0</td>\n",
       "      <td>0.0</td>\n",
       "      <td>NaN</td>\n",
       "      <td>NaN</td>\n",
       "      <td>NaN</td>\n",
       "      <td>NaN</td>\n",
       "      <td>...</td>\n",
       "      <td>0.0</td>\n",
       "      <td>19.85</td>\n",
       "      <td>Credit Card</td>\n",
       "      <td>T.A.S. - Payment Only</td>\n",
       "      <td>NaN</td>\n",
       "      <td>NaN</td>\n",
       "      <td>None</td>\n",
       "      <td>NaN</td>\n",
       "      <td>NaN</td>\n",
       "      <td>None</td>\n",
       "    </tr>\n",
       "  </tbody>\n",
       "</table>\n",
       "<p>5 rows × 23 columns</p>\n",
       "</div>"
      ],
      "text/plain": [
       "                                 unique_key  \\\n",
       "0  658aac74e3f3830aaaa54e4fe048a91d7233d12f   \n",
       "1  e648b63342d4a601ce8bcb15c84f3fae2e41bd84   \n",
       "2  db9ce25a28ac7eeedcd6aa5081f59a0e9b4a96da   \n",
       "3  bc795438ea79132877c03c147bb3a7de26e3ceba   \n",
       "4  76f299c3e72a68920f0a4e327acbced7aaf52a9b   \n",
       "\n",
       "                                             taxi_id  \\\n",
       "0  2568c6e490992798e9b945d3655d7f4fd56f218f3c5424...   \n",
       "1  757187b0539a5d45de2b1c4df145331b4f6150e3f882db...   \n",
       "2  8af866321dea9cae50902f4d2a92fe44b512f024e65e2b...   \n",
       "3  f4ae9b2c8c8f5d2a1cc1e7864cc14e76a252a4236b9a4f...   \n",
       "4  26098afc7c6fc2d9e067c502b4a101289d018978ba9157...   \n",
       "\n",
       "       trip_start_timestamp        trip_end_timestamp  trip_seconds  \\\n",
       "0 2014-03-29 15:45:00+00:00 2014-03-29 15:45:00+00:00             0   \n",
       "1 2014-04-03 06:15:00+00:00 2014-04-03 06:15:00+00:00             0   \n",
       "2 2014-12-09 19:15:00+00:00 2014-12-09 19:15:00+00:00             0   \n",
       "3 2014-04-03 08:45:00+00:00 2014-04-03 08:45:00+00:00             0   \n",
       "4 2014-03-30 12:45:00+00:00 2014-03-30 12:45:00+00:00             0   \n",
       "\n",
       "   trip_miles  pickup_census_tract  dropoff_census_tract  \\\n",
       "0         0.0                  NaN                   NaN   \n",
       "1         0.0                  NaN                   NaN   \n",
       "2         0.0                  NaN                   NaN   \n",
       "3         0.0                  NaN                   NaN   \n",
       "4         0.0                  NaN                   NaN   \n",
       "\n",
       "   pickup_community_area  dropoff_community_area  ...  extras  trip_total  \\\n",
       "0                    NaN                     NaN  ...     0.0       13.98   \n",
       "1                    NaN                     NaN  ...     0.0       17.85   \n",
       "2                    NaN                     NaN  ...     0.0       14.70   \n",
       "3                    NaN                     NaN  ...     0.0       51.58   \n",
       "4                    NaN                     NaN  ...     0.0       19.85   \n",
       "\n",
       "   payment_type                                   company  pickup_latitude  \\\n",
       "0   Credit Card  Chicago Elite Cab Corp. (Chicago Carriag              NaN   \n",
       "1   Credit Card  Chicago Elite Cab Corp. (Chicago Carriag              NaN   \n",
       "2   Credit Card  Chicago Elite Cab Corp. (Chicago Carriag              NaN   \n",
       "3   Credit Card                     T.A.S. - Payment Only              NaN   \n",
       "4   Credit Card                     T.A.S. - Payment Only              NaN   \n",
       "\n",
       "  pickup_longitude pickup_location  dropoff_latitude  dropoff_longitude  \\\n",
       "0              NaN            None               NaN                NaN   \n",
       "1              NaN            None               NaN                NaN   \n",
       "2              NaN            None               NaN                NaN   \n",
       "3              NaN            None               NaN                NaN   \n",
       "4              NaN            None               NaN                NaN   \n",
       "\n",
       "  dropoff_location  \n",
       "0             None  \n",
       "1             None  \n",
       "2             None  \n",
       "3             None  \n",
       "4             None  \n",
       "\n",
       "[5 rows x 23 columns]"
      ]
     },
     "execution_count": 6,
     "metadata": {},
     "output_type": "execute_result"
    }
   ],
   "source": [
    "# Your code here\n",
    "table_ref = dataset_ref.table(\"taxi_trips\")\n",
    "table = client.get_table(table_ref)\n",
    "client.list_rows(table, max_results=5).to_dataframe()"
   ]
  },
  {
   "cell_type": "markdown",
   "id": "b54f830c",
   "metadata": {
    "papermill": {
     "duration": 0.026736,
     "end_time": "2022-03-02T15:14:45.040163",
     "exception": false,
     "start_time": "2022-03-02T15:14:45.013427",
     "status": "completed"
    },
    "tags": []
   },
   "source": [
    "After deciding whether you see any important issues, run the code cell below."
   ]
  },
  {
   "cell_type": "code",
   "execution_count": 7,
   "id": "570aad60",
   "metadata": {
    "execution": {
     "iopub.execute_input": "2022-03-02T15:14:45.095164Z",
     "iopub.status.busy": "2022-03-02T15:14:45.094553Z",
     "iopub.status.idle": "2022-03-02T15:14:45.100875Z",
     "shell.execute_reply": "2022-03-02T15:14:45.101424Z",
     "shell.execute_reply.started": "2022-03-02T13:42:50.178672Z"
    },
    "papermill": {
     "duration": 0.035509,
     "end_time": "2022-03-02T15:14:45.101580",
     "exception": false,
     "start_time": "2022-03-02T15:14:45.066071",
     "status": "completed"
    },
    "tags": []
   },
   "outputs": [
    {
     "data": {
      "application/javascript": [
       "parent.postMessage({\"jupyterEvent\": \"custom.exercise_interaction\", \"data\": {\"interactionType\": 3, \"questionType\": 4, \"questionId\": \"2_WhatsWrongWithData\", \"learnToolsVersion\": \"0.3.4\", \"valueTowardsCompletion\": 0.0, \"failureMessage\": \"\", \"exceptionClass\": \"\", \"trace\": \"\", \"outcomeType\": 4}}, \"*\")"
      ],
      "text/plain": [
       "<IPython.core.display.Javascript object>"
      ]
     },
     "metadata": {},
     "output_type": "display_data"
    },
    {
     "data": {
      "text/markdown": [
       "<span style=\"color:#33cc99\">Solution:</span> \n",
       "You can see the data by calling: \n",
       "```python\n",
       "# Construct a reference to the \"taxi_trips\" table\n",
       "table_ref = dataset_ref.table(\"taxi_trips\")\n",
       "\n",
       "# API request - fetch the table\n",
       "table = client.get_table(table_ref)\n",
       "\n",
       "# Preview the first five lines of the \"taxi_trips\" table\n",
       "client.list_rows(table, max_results=5).to_dataframe()\n",
       "```\n",
       "\n",
       "Some trips in the top few rows have `trip_seconds` or `trip_miles` values of 0. \n",
       "Other location fields have values of `None`. That is a problem if we want to use those fields.\n"
      ],
      "text/plain": [
       "Solution: \n",
       "You can see the data by calling: \n",
       "```python\n",
       "# Construct a reference to the \"taxi_trips\" table\n",
       "table_ref = dataset_ref.table(\"taxi_trips\")\n",
       "\n",
       "# API request - fetch the table\n",
       "table = client.get_table(table_ref)\n",
       "\n",
       "# Preview the first five lines of the \"taxi_trips\" table\n",
       "client.list_rows(table, max_results=5).to_dataframe()\n",
       "```\n",
       "\n",
       "Some trips in the top few rows have `trip_seconds` or `trip_miles` values of 0. \n",
       "Other location fields have values of `None`. That is a problem if we want to use those fields."
      ]
     },
     "metadata": {},
     "output_type": "display_data"
    }
   ],
   "source": [
    "# Check your answer (Run this code cell to receive credit!)\n",
    "q_2.solution()"
   ]
  },
  {
   "cell_type": "markdown",
   "id": "5cde8cd8",
   "metadata": {
    "papermill": {
     "duration": 0.027011,
     "end_time": "2022-03-02T15:14:45.156101",
     "exception": false,
     "start_time": "2022-03-02T15:14:45.129090",
     "status": "completed"
    },
    "tags": []
   },
   "source": [
    "### 3) Determine when this data is from\n",
    "\n",
    "If the data is sufficiently old, we might be careful before assuming the data is still relevant to traffic patterns today. Write a query that counts the number of trips in each year.  \n",
    "\n",
    "Your results should have two columns:\n",
    "- `year` - the year of the trips\n",
    "- `num_trips` - the number of trips in that year\n",
    "\n",
    "Hints:\n",
    "- When using **GROUP BY** and **ORDER BY**, you should refer to the columns by the alias `year` that you set at the top of the **SELECT** query.\n",
    "- The SQL code to **SELECT** the year from `trip_start_timestamp` is <code>SELECT EXTRACT(YEAR FROM trip_start_timestamp)</code>\n",
    "- The **FROM** field can be a little tricky until you are used to it.  The format is:\n",
    "    1. A backick (the symbol \\`).\n",
    "    2. The project name. In this case it is `bigquery-public-data`.\n",
    "    3. A period.\n",
    "    4. The dataset name. In this case, it is `chicago_taxi_trips`.\n",
    "    5. A period.\n",
    "    6. The table name. You used this as your answer in **1) Find the data**.\n",
    "    7. A backtick (the symbol \\`)."
   ]
  },
  {
   "cell_type": "code",
   "execution_count": 8,
   "id": "395a3f3b",
   "metadata": {
    "execution": {
     "iopub.execute_input": "2022-03-02T15:14:45.214616Z",
     "iopub.status.busy": "2022-03-02T15:14:45.214028Z",
     "iopub.status.idle": "2022-03-02T15:14:46.326075Z",
     "shell.execute_reply": "2022-03-02T15:14:46.325493Z",
     "shell.execute_reply.started": "2022-03-02T14:12:39.457003Z"
    },
    "papermill": {
     "duration": 1.142249,
     "end_time": "2022-03-02T15:14:46.326213",
     "exception": false,
     "start_time": "2022-03-02T15:14:45.183964",
     "status": "completed"
    },
    "tags": []
   },
   "outputs": [
    {
     "name": "stderr",
     "output_type": "stream",
     "text": [
      "/opt/conda/lib/python3.7/site-packages/google/cloud/bigquery/client.py:440: UserWarning: Cannot create BigQuery Storage client, the dependency google-cloud-bigquery-storage is not installed.\n",
      "  \"Cannot create BigQuery Storage client, the dependency \"\n"
     ]
    },
    {
     "name": "stdout",
     "output_type": "stream",
     "text": [
      "   year  num_trips\n",
      "0  2013   27217716\n",
      "1  2014   37395436\n",
      "2  2015   32385875\n",
      "3  2016   31759339\n",
      "4  2017   24988003\n",
      "5  2018   20732088\n",
      "6  2019   16477365\n",
      "7  2020    3889032\n",
      "8  2021    3948045\n",
      "9  2022     308197\n"
     ]
    },
    {
     "data": {
      "application/javascript": [
       "parent.postMessage({\"jupyterEvent\": \"custom.exercise_interaction\", \"data\": {\"outcomeType\": 1, \"valueTowardsCompletion\": 0.16666666666666666, \"interactionType\": 1, \"questionType\": 2, \"questionId\": \"3_YearDistrib\", \"learnToolsVersion\": \"0.3.4\", \"failureMessage\": \"\", \"exceptionClass\": \"\", \"trace\": \"\"}}, \"*\")"
      ],
      "text/plain": [
       "<IPython.core.display.Javascript object>"
      ]
     },
     "metadata": {},
     "output_type": "display_data"
    },
    {
     "data": {
      "text/markdown": [
       "<span style=\"color:#33cc33\">Correct</span>"
      ],
      "text/plain": [
       "Correct"
      ]
     },
     "metadata": {},
     "output_type": "display_data"
    }
   ],
   "source": [
    "# Your code goes here\n",
    "rides_per_year_query = \"\"\"\n",
    "with time as\n",
    "    (SELECT EXTRACT(YEAR FROM trip_start_timestamp) as year\n",
    "    from `bigquery-public-data.chicago_taxi_trips.taxi_trips`\n",
    "    )\n",
    "    SELECT year, count(0) AS num_trips\n",
    "    FROM time\n",
    "    group by year\n",
    "    order by year \n",
    "\n",
    "\n",
    "\"\"\"\n",
    "\n",
    "# Set up the query (cancel the query if it would use too much of \n",
    "# your quota)\n",
    "safe_config = bigquery.QueryJobConfig(maximum_bytes_billed=10**10)\n",
    "rides_per_year_query_job = client.query(rides_per_year_query,job_config=safe_config)   # Your code goes here\n",
    "\n",
    "# API request - run the query, and return a pandas DataFrame\n",
    "rides_per_year_result = rides_per_year_query_job.to_dataframe()  # Your code goes here\n",
    "\n",
    "# View results\n",
    "print(rides_per_year_result)\n",
    "\n",
    "# Check your answer\n",
    "q_3.check()"
   ]
  },
  {
   "cell_type": "markdown",
   "id": "671ecadf",
   "metadata": {
    "papermill": {
     "duration": 0.02886,
     "end_time": "2022-03-02T15:14:46.384830",
     "exception": false,
     "start_time": "2022-03-02T15:14:46.355970",
     "status": "completed"
    },
    "tags": []
   },
   "source": [
    "For a hint or the solution, uncomment the appropriate line below."
   ]
  },
  {
   "cell_type": "code",
   "execution_count": 9,
   "id": "e598091b",
   "metadata": {
    "execution": {
     "iopub.execute_input": "2022-03-02T15:14:46.446308Z",
     "iopub.status.busy": "2022-03-02T15:14:46.445750Z",
     "iopub.status.idle": "2022-03-02T15:14:46.448516Z",
     "shell.execute_reply": "2022-03-02T15:14:46.449098Z"
    },
    "papermill": {
     "duration": 0.035582,
     "end_time": "2022-03-02T15:14:46.449259",
     "exception": false,
     "start_time": "2022-03-02T15:14:46.413677",
     "status": "completed"
    },
    "tags": []
   },
   "outputs": [],
   "source": [
    "#q_3.hint()\n",
    "#q_3.solution()"
   ]
  },
  {
   "cell_type": "markdown",
   "id": "46c5e6ce",
   "metadata": {
    "papermill": {
     "duration": 0.029666,
     "end_time": "2022-03-02T15:14:46.508418",
     "exception": false,
     "start_time": "2022-03-02T15:14:46.478752",
     "status": "completed"
    },
    "tags": []
   },
   "source": [
    "### 4) Dive slightly deeper\n",
    "\n",
    "You'd like to take a closer look at rides from 2017.  Copy the query you used above in `rides_per_year_query` into the cell below for `rides_per_month_query`.  Then modify it in two ways:\n",
    "1. Use a **WHERE** clause to limit the query to data from 2017.\n",
    "2. Modify the query to extract the month rather than the year."
   ]
  },
  {
   "cell_type": "code",
   "execution_count": 10,
   "id": "95ed8939",
   "metadata": {
    "execution": {
     "iopub.execute_input": "2022-03-02T15:14:46.577255Z",
     "iopub.status.busy": "2022-03-02T15:14:46.576604Z",
     "iopub.status.idle": "2022-03-02T15:14:47.548959Z",
     "shell.execute_reply": "2022-03-02T15:14:47.548452Z",
     "shell.execute_reply.started": "2022-03-02T14:23:15.982194Z"
    },
    "papermill": {
     "duration": 1.010915,
     "end_time": "2022-03-02T15:14:47.549113",
     "exception": false,
     "start_time": "2022-03-02T15:14:46.538198",
     "status": "completed"
    },
    "tags": []
   },
   "outputs": [
    {
     "name": "stderr",
     "output_type": "stream",
     "text": [
      "/opt/conda/lib/python3.7/site-packages/google/cloud/bigquery/client.py:440: UserWarning: Cannot create BigQuery Storage client, the dependency google-cloud-bigquery-storage is not installed.\n",
      "  \"Cannot create BigQuery Storage client, the dependency \"\n"
     ]
    },
    {
     "name": "stdout",
     "output_type": "stream",
     "text": [
      "    month  num_trips\n",
      "0       1    1972071\n",
      "1       2    1909802\n",
      "2       3    2362105\n",
      "3       4    2194702\n",
      "4       5    2323386\n",
      "5       6    2324472\n",
      "6       7    2054299\n",
      "7       8    2079861\n",
      "8       9    1950631\n",
      "9      10    2141197\n",
      "10     11    1907997\n",
      "11     12    1767480\n"
     ]
    },
    {
     "data": {
      "application/javascript": [
       "parent.postMessage({\"jupyterEvent\": \"custom.exercise_interaction\", \"data\": {\"outcomeType\": 1, \"valueTowardsCompletion\": 0.16666666666666666, \"interactionType\": 1, \"questionType\": 2, \"questionId\": \"4_MonthDistrib\", \"learnToolsVersion\": \"0.3.4\", \"failureMessage\": \"\", \"exceptionClass\": \"\", \"trace\": \"\"}}, \"*\")"
      ],
      "text/plain": [
       "<IPython.core.display.Javascript object>"
      ]
     },
     "metadata": {},
     "output_type": "display_data"
    },
    {
     "data": {
      "text/markdown": [
       "<span style=\"color:#33cc33\">Correct</span>"
      ],
      "text/plain": [
       "Correct"
      ]
     },
     "metadata": {},
     "output_type": "display_data"
    }
   ],
   "source": [
    "# Your code goes here\n",
    "rides_per_month_query = \"\"\"\n",
    "WITH month_data AS (\n",
    "    SELECT EXTRACT(MONTH FROM trip_start_timestamp) AS month, EXTRACT(YEAR FROM trip_start_timestamp) AS year \n",
    "    FROM `bigquery-public-data.chicago_taxi_trips.taxi_trips`\n",
    "    )\n",
    "    SELECT month, count(1) AS num_trips \n",
    "    FROM month_data\n",
    "    WHERE year = 2017\n",
    "    GROUP BY month\n",
    "    ORDER BY month\n",
    "\n",
    "\n",
    "\"\"\" \n",
    "\n",
    "# Set up the query\n",
    "safe_config = bigquery.QueryJobConfig(maximum_bytes_billed=10**10)\n",
    "rides_per_month_query_job = client.query(rides_per_month_query,job_config=safe_config) # Your code goes here\n",
    "\n",
    "# API request - run the query, and return a pandas DataFrame\n",
    "rides_per_month_result = rides_per_month_query_job.to_dataframe() # Your code goes here\n",
    "\n",
    "# View results\n",
    "print(rides_per_month_result)\n",
    "\n",
    "# Check your answer\n",
    "q_4.check()"
   ]
  },
  {
   "cell_type": "markdown",
   "id": "c640087e",
   "metadata": {
    "papermill": {
     "duration": 0.030514,
     "end_time": "2022-03-02T15:14:47.611223",
     "exception": false,
     "start_time": "2022-03-02T15:14:47.580709",
     "status": "completed"
    },
    "tags": []
   },
   "source": [
    "For a hint or the solution, uncomment the appropriate line below."
   ]
  },
  {
   "cell_type": "code",
   "execution_count": 11,
   "id": "b5461436",
   "metadata": {
    "execution": {
     "iopub.execute_input": "2022-03-02T15:14:47.677979Z",
     "iopub.status.busy": "2022-03-02T15:14:47.677430Z",
     "iopub.status.idle": "2022-03-02T15:14:47.680188Z",
     "shell.execute_reply": "2022-03-02T15:14:47.680605Z"
    },
    "papermill": {
     "duration": 0.0382,
     "end_time": "2022-03-02T15:14:47.680755",
     "exception": false,
     "start_time": "2022-03-02T15:14:47.642555",
     "status": "completed"
    },
    "tags": []
   },
   "outputs": [],
   "source": [
    "#q_4.hint()\n",
    "#q_4.solution()"
   ]
  },
  {
   "cell_type": "markdown",
   "id": "0c5c1382",
   "metadata": {
    "papermill": {
     "duration": 0.031356,
     "end_time": "2022-03-02T15:14:47.742701",
     "exception": false,
     "start_time": "2022-03-02T15:14:47.711345",
     "status": "completed"
    },
    "tags": []
   },
   "source": [
    "### 5) Write the query\n",
    "\n",
    "It's time to step up the sophistication of your queries.  Write a query that shows, for each hour of the day in the dataset, the corresponding number of trips and average speed.\n",
    "\n",
    "Your results should have three columns:\n",
    "- `hour_of_day` - sort by this column, which holds the result of extracting the hour from `trip_start_timestamp`.\n",
    "- `num_trips` - the count of the total number of trips in each hour of the day (e.g. how many trips were started between 6AM and 7AM, independent of which day it occurred on).\n",
    "- `avg_mph` - the average speed, measured in miles per hour, for trips that started in that hour of the day.  Average speed in miles per hour is calculated as `3600 * SUM(trip_miles) / SUM(trip_seconds)`. (The value 3600 is used to convert from seconds to hours.)\n",
    "\n",
    "Restrict your query to data meeting the following criteria:\n",
    "- a `trip_start_timestamp` between **2017-01-01** and **2017-07-01**\n",
    "- `trip_seconds` > 0 and `trip_miles` > 0\n",
    "\n",
    "You will use a common table expression (CTE) to select just the relevant rides.  Because this dataset is very big, this CTE should select only the columns you'll need to create the final output (though you won't actually create those in the CTE -- instead you'll create those in the later **SELECT** statement below the CTE).\n",
    "\n",
    "This is a much harder query than anything you've written so far.  Good luck!"
   ]
  },
  {
   "cell_type": "code",
   "execution_count": 12,
   "id": "bca18b00",
   "metadata": {
    "execution": {
     "iopub.execute_input": "2022-03-02T15:14:47.815083Z",
     "iopub.status.busy": "2022-03-02T15:14:47.814326Z",
     "iopub.status.idle": "2022-03-02T15:14:48.733826Z",
     "shell.execute_reply": "2022-03-02T15:14:48.732991Z",
     "shell.execute_reply.started": "2022-03-02T15:13:36.580665Z"
    },
    "papermill": {
     "duration": 0.959894,
     "end_time": "2022-03-02T15:14:48.733986",
     "exception": false,
     "start_time": "2022-03-02T15:14:47.774092",
     "status": "completed"
    },
    "tags": []
   },
   "outputs": [
    {
     "name": "stderr",
     "output_type": "stream",
     "text": [
      "/opt/conda/lib/python3.7/site-packages/google/cloud/bigquery/client.py:440: UserWarning: Cannot create BigQuery Storage client, the dependency google-cloud-bigquery-storage is not installed.\n",
      "  \"Cannot create BigQuery Storage client, the dependency \"\n"
     ]
    },
    {
     "name": "stdout",
     "output_type": "stream",
     "text": [
      "    hour_of_day  num_trips    avg_mph\n",
      "0             0     319339  20.230524\n",
      "1             1     266529  18.937621\n",
      "2             2     210147  18.777070\n",
      "3             3     159668  20.158048\n",
      "4             4     122183  26.736014\n",
      "5             5     119312  30.769172\n",
      "6             6     182738  24.588313\n",
      "7             7     358406  17.735967\n",
      "8             8     541775  15.079892\n",
      "9             9     565548  16.543882\n",
      "10           10     525120  18.539614\n",
      "11           11     594603  18.928379\n",
      "12           12     622324  17.838745\n",
      "13           13     630181  17.671089\n",
      "14           14     622465  16.974239\n",
      "15           15     640430  15.688418\n",
      "16           16     701435  14.283888\n",
      "17           17     756627  12.462955\n",
      "18           18     768251  13.646810\n",
      "19           19     701064  16.642882\n",
      "20           20     598614  19.536777\n",
      "21           21     552726  20.433874\n",
      "22           22     501095  19.531374\n",
      "23           23     399587  19.877046\n"
     ]
    },
    {
     "data": {
      "application/javascript": [
       "parent.postMessage({\"jupyterEvent\": \"custom.exercise_interaction\", \"data\": {\"outcomeType\": 1, \"valueTowardsCompletion\": 0.16666666666666666, \"interactionType\": 1, \"questionType\": 2, \"questionId\": \"5_TheLongQuery\", \"learnToolsVersion\": \"0.3.4\", \"failureMessage\": \"\", \"exceptionClass\": \"\", \"trace\": \"\"}}, \"*\")"
      ],
      "text/plain": [
       "<IPython.core.display.Javascript object>"
      ]
     },
     "metadata": {},
     "output_type": "display_data"
    },
    {
     "data": {
      "text/markdown": [
       "<span style=\"color:#33cc33\">Correct</span>"
      ],
      "text/plain": [
       "Correct"
      ]
     },
     "metadata": {},
     "output_type": "display_data"
    }
   ],
   "source": [
    "# Your code goes here\n",
    "speeds_query = \"\"\"\n",
    "               WITH RelevantRides AS\n",
    "               (\n",
    "                   SELECT EXTRACT (HOUR FROM trip_start_timestamp) AS hour_of_day, trip_miles, trip_seconds\n",
    "                   FROM `bigquery-public-data.chicago_taxi_trips.taxi_trips`\n",
    "                   WHERE (trip_start_timestamp > \"2017-01-01\")\n",
    "                   and (trip_start_timestamp  < \"2017-07-01\")\n",
    "                   AND (trip_seconds > 0) \n",
    "                   AND (trip_miles > 0)\n",
    "               )\n",
    "               SELECT hour_of_day, count(1) AS num_trips, 3600*(SUM(trip_miles)/SUM(trip_seconds)) AS avg_mph\n",
    "               FROM RelevantRides\n",
    "               GROUP BY hour_of_day\n",
    "               ORDER BY hour_of_day\n",
    "               \"\"\"\n",
    "\n",
    "# Set up the query\n",
    "safe_config = bigquery.QueryJobConfig(maximum_bytes_billed=10**10)\n",
    "speeds_query_job = client.query(speeds_query,job_config=safe_config) # Your code here\n",
    "\n",
    "# API request - run the query, and return a pandas DataFrame\n",
    "speeds_result = speeds_query_job.to_dataframe() # Your code here\n",
    "\n",
    "# View results\n",
    "print(speeds_result)\n",
    "\n",
    "# Check your answer\n",
    "q_5.check()"
   ]
  },
  {
   "cell_type": "markdown",
   "id": "b75a7972",
   "metadata": {
    "papermill": {
     "duration": 0.03324,
     "end_time": "2022-03-02T15:14:48.800429",
     "exception": false,
     "start_time": "2022-03-02T15:14:48.767189",
     "status": "completed"
    },
    "tags": []
   },
   "source": [
    "For the solution, uncomment the appropriate line below."
   ]
  },
  {
   "cell_type": "code",
   "execution_count": 13,
   "id": "127987e3",
   "metadata": {
    "execution": {
     "iopub.execute_input": "2022-03-02T15:14:48.871801Z",
     "iopub.status.busy": "2022-03-02T15:14:48.871204Z",
     "iopub.status.idle": "2022-03-02T15:14:48.873475Z",
     "shell.execute_reply": "2022-03-02T15:14:48.872879Z",
     "shell.execute_reply.started": "2022-03-02T15:12:19.125896Z"
    },
    "papermill": {
     "duration": 0.039047,
     "end_time": "2022-03-02T15:14:48.873600",
     "exception": false,
     "start_time": "2022-03-02T15:14:48.834553",
     "status": "completed"
    },
    "tags": []
   },
   "outputs": [],
   "source": [
    "#q_5.solution()"
   ]
  },
  {
   "cell_type": "markdown",
   "id": "7047d453",
   "metadata": {
    "papermill": {
     "duration": 0.033441,
     "end_time": "2022-03-02T15:14:48.940036",
     "exception": false,
     "start_time": "2022-03-02T15:14:48.906595",
     "status": "completed"
    },
    "tags": []
   },
   "source": [
    "That's a hard query. If you made good progress towards the solution, congratulations!"
   ]
  },
  {
   "cell_type": "markdown",
   "id": "14874d8a",
   "metadata": {
    "papermill": {
     "duration": 0.032404,
     "end_time": "2022-03-02T15:14:49.005479",
     "exception": false,
     "start_time": "2022-03-02T15:14:48.973075",
     "status": "completed"
    },
    "tags": []
   },
   "source": [
    "# Keep going\n",
    "\n",
    "You can write very complex queries now with a single data source. But nothing expands the horizons of SQL as much as the ability to combine or **JOIN** tables.\n",
    "\n",
    "**[Click here](https://www.kaggle.com/dansbecker/joining-data)** to start the last lesson in the Intro to SQL micro-course."
   ]
  },
  {
   "cell_type": "markdown",
   "id": "e6156d5d",
   "metadata": {
    "papermill": {
     "duration": 0.033726,
     "end_time": "2022-03-02T15:14:49.072861",
     "exception": false,
     "start_time": "2022-03-02T15:14:49.039135",
     "status": "completed"
    },
    "tags": []
   },
   "source": [
    "---\n",
    "\n",
    "\n",
    "\n",
    "\n",
    "*Have questions or comments? Visit the [course discussion forum](https://www.kaggle.com/learn/intro-to-sql/discussion) to chat with other learners.*"
   ]
  }
 ],
 "metadata": {
  "kernelspec": {
   "display_name": "Python 3",
   "language": "python",
   "name": "python3"
  },
  "language_info": {
   "codemirror_mode": {
    "name": "ipython",
    "version": 3
   },
   "file_extension": ".py",
   "mimetype": "text/x-python",
   "name": "python",
   "nbconvert_exporter": "python",
   "pygments_lexer": "ipython3",
   "version": "3.7.12"
  },
  "papermill": {
   "default_parameters": {},
   "duration": 19.225795,
   "end_time": "2022-03-02T15:14:49.715153",
   "environment_variables": {},
   "exception": null,
   "input_path": "__notebook__.ipynb",
   "output_path": "__notebook__.ipynb",
   "parameters": {},
   "start_time": "2022-03-02T15:14:30.489358",
   "version": "2.3.3"
  }
 },
 "nbformat": 4,
 "nbformat_minor": 5
}
