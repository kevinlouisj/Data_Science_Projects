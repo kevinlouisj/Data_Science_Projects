{
 "cells": [
  {
   "cell_type": "markdown",
   "id": "d147a3de",
   "metadata": {
    "papermill": {
     "duration": 0.025437,
     "end_time": "2022-02-15T15:55:27.088382",
     "exception": false,
     "start_time": "2022-02-15T15:55:27.062945",
     "status": "completed"
    },
    "tags": []
   },
   "source": [
    "**This notebook is an exercise in the [Data Cleaning](https://www.kaggle.com/learn/data-cleaning) course.  You can reference the tutorial at [this link](https://www.kaggle.com/alexisbcook/handling-missing-values).**\n",
    "\n",
    "---\n"
   ]
  },
  {
   "cell_type": "markdown",
   "id": "1a185e5c",
   "metadata": {
    "papermill": {
     "duration": 0.023497,
     "end_time": "2022-02-15T15:55:27.137490",
     "exception": false,
     "start_time": "2022-02-15T15:55:27.113993",
     "status": "completed"
    },
    "tags": []
   },
   "source": [
    "In this exercise, you'll apply what you learned in the **Handling missing values** tutorial.\n",
    "\n",
    "# Setup\n",
    "\n",
    "The questions below will give you feedback on your work. Run the following cell to set up the feedback system."
   ]
  },
  {
   "cell_type": "code",
   "execution_count": 1,
   "id": "0387de52",
   "metadata": {
    "execution": {
     "iopub.execute_input": "2022-02-15T15:55:27.191571Z",
     "iopub.status.busy": "2022-02-15T15:55:27.189769Z",
     "iopub.status.idle": "2022-02-15T15:55:32.133402Z",
     "shell.execute_reply": "2022-02-15T15:55:32.132506Z",
     "shell.execute_reply.started": "2022-02-15T15:07:51.974957Z"
    },
    "papermill": {
     "duration": 4.971899,
     "end_time": "2022-02-15T15:55:32.133602",
     "exception": false,
     "start_time": "2022-02-15T15:55:27.161703",
     "status": "completed"
    },
    "tags": []
   },
   "outputs": [
    {
     "name": "stderr",
     "output_type": "stream",
     "text": [
      "/opt/conda/lib/python3.7/site-packages/ipykernel_launcher.py:3: DtypeWarning: Columns (22,32) have mixed types.Specify dtype option on import or set low_memory=False.\n",
      "  This is separate from the ipykernel package so we can avoid doing imports until\n"
     ]
    },
    {
     "name": "stdout",
     "output_type": "stream",
     "text": [
      "Setup Complete\n"
     ]
    }
   ],
   "source": [
    "from learntools.core import binder\n",
    "binder.bind(globals())\n",
    "from learntools.data_cleaning.ex1 import *\n",
    "print(\"Setup Complete\")"
   ]
  },
  {
   "cell_type": "markdown",
   "id": "e0e00d2d",
   "metadata": {
    "papermill": {
     "duration": 0.025341,
     "end_time": "2022-02-15T15:55:32.184867",
     "exception": false,
     "start_time": "2022-02-15T15:55:32.159526",
     "status": "completed"
    },
    "tags": []
   },
   "source": [
    "# 1) Take a first look at the data\n",
    "\n",
    "Run the next code cell to load in the libraries and dataset you'll use to complete the exercise."
   ]
  },
  {
   "cell_type": "code",
   "execution_count": 2,
   "id": "426d50c0",
   "metadata": {
    "execution": {
     "iopub.execute_input": "2022-02-15T15:55:32.240093Z",
     "iopub.status.busy": "2022-02-15T15:55:32.238888Z",
     "iopub.status.idle": "2022-02-15T15:55:34.293699Z",
     "shell.execute_reply": "2022-02-15T15:55:34.294428Z",
     "shell.execute_reply.started": "2022-02-15T15:10:41.684275Z"
    },
    "papermill": {
     "duration": 2.085468,
     "end_time": "2022-02-15T15:55:34.294650",
     "exception": false,
     "start_time": "2022-02-15T15:55:32.209182",
     "status": "completed"
    },
    "tags": []
   },
   "outputs": [
    {
     "name": "stderr",
     "output_type": "stream",
     "text": [
      "/opt/conda/lib/python3.7/site-packages/IPython/core/interactiveshell.py:3457: DtypeWarning: Columns (22,32) have mixed types.Specify dtype option on import or set low_memory=False.\n",
      "  exec(code_obj, self.user_global_ns, self.user_ns)\n"
     ]
    }
   ],
   "source": [
    "# modules we'll use\n",
    "import pandas as pd\n",
    "import numpy as np\n",
    "\n",
    "# read in all our data\n",
    "sf_permits = pd.read_csv(\"../input/building-permit-applications-data/Building_Permits.csv\")\n",
    "\n",
    "# set seed for reproducibility\n",
    "np.random.seed(0) "
   ]
  },
  {
   "cell_type": "markdown",
   "id": "9e3cc4ab",
   "metadata": {
    "papermill": {
     "duration": 0.024865,
     "end_time": "2022-02-15T15:55:34.345387",
     "exception": false,
     "start_time": "2022-02-15T15:55:34.320522",
     "status": "completed"
    },
    "tags": []
   },
   "source": [
    "Use the code cell below to print the first five rows of the `sf_permits` DataFrame."
   ]
  },
  {
   "cell_type": "code",
   "execution_count": 3,
   "id": "3f75162c",
   "metadata": {
    "execution": {
     "iopub.execute_input": "2022-02-15T15:55:34.406412Z",
     "iopub.status.busy": "2022-02-15T15:55:34.405681Z",
     "iopub.status.idle": "2022-02-15T15:55:34.432925Z",
     "shell.execute_reply": "2022-02-15T15:55:34.433431Z",
     "shell.execute_reply.started": "2022-02-15T15:11:43.456453Z"
    },
    "papermill": {
     "duration": 0.06342,
     "end_time": "2022-02-15T15:55:34.433596",
     "exception": false,
     "start_time": "2022-02-15T15:55:34.370176",
     "status": "completed"
    },
    "tags": []
   },
   "outputs": [
    {
     "data": {
      "text/html": [
       "<div>\n",
       "<style scoped>\n",
       "    .dataframe tbody tr th:only-of-type {\n",
       "        vertical-align: middle;\n",
       "    }\n",
       "\n",
       "    .dataframe tbody tr th {\n",
       "        vertical-align: top;\n",
       "    }\n",
       "\n",
       "    .dataframe thead th {\n",
       "        text-align: right;\n",
       "    }\n",
       "</style>\n",
       "<table border=\"1\" class=\"dataframe\">\n",
       "  <thead>\n",
       "    <tr style=\"text-align: right;\">\n",
       "      <th></th>\n",
       "      <th>Permit Number</th>\n",
       "      <th>Permit Type</th>\n",
       "      <th>Permit Type Definition</th>\n",
       "      <th>Permit Creation Date</th>\n",
       "      <th>Block</th>\n",
       "      <th>Lot</th>\n",
       "      <th>Street Number</th>\n",
       "      <th>Street Number Suffix</th>\n",
       "      <th>Street Name</th>\n",
       "      <th>Street Suffix</th>\n",
       "      <th>...</th>\n",
       "      <th>Existing Construction Type</th>\n",
       "      <th>Existing Construction Type Description</th>\n",
       "      <th>Proposed Construction Type</th>\n",
       "      <th>Proposed Construction Type Description</th>\n",
       "      <th>Site Permit</th>\n",
       "      <th>Supervisor District</th>\n",
       "      <th>Neighborhoods - Analysis Boundaries</th>\n",
       "      <th>Zipcode</th>\n",
       "      <th>Location</th>\n",
       "      <th>Record ID</th>\n",
       "    </tr>\n",
       "  </thead>\n",
       "  <tbody>\n",
       "    <tr>\n",
       "      <th>0</th>\n",
       "      <td>201505065519</td>\n",
       "      <td>4</td>\n",
       "      <td>sign - erect</td>\n",
       "      <td>05/06/2015</td>\n",
       "      <td>0326</td>\n",
       "      <td>023</td>\n",
       "      <td>140</td>\n",
       "      <td>NaN</td>\n",
       "      <td>Ellis</td>\n",
       "      <td>St</td>\n",
       "      <td>...</td>\n",
       "      <td>3.0</td>\n",
       "      <td>constr type 3</td>\n",
       "      <td>NaN</td>\n",
       "      <td>NaN</td>\n",
       "      <td>NaN</td>\n",
       "      <td>3.0</td>\n",
       "      <td>Tenderloin</td>\n",
       "      <td>94102.0</td>\n",
       "      <td>(37.785719256680785, -122.40852313194863)</td>\n",
       "      <td>1380611233945</td>\n",
       "    </tr>\n",
       "    <tr>\n",
       "      <th>1</th>\n",
       "      <td>201604195146</td>\n",
       "      <td>4</td>\n",
       "      <td>sign - erect</td>\n",
       "      <td>04/19/2016</td>\n",
       "      <td>0306</td>\n",
       "      <td>007</td>\n",
       "      <td>440</td>\n",
       "      <td>NaN</td>\n",
       "      <td>Geary</td>\n",
       "      <td>St</td>\n",
       "      <td>...</td>\n",
       "      <td>3.0</td>\n",
       "      <td>constr type 3</td>\n",
       "      <td>NaN</td>\n",
       "      <td>NaN</td>\n",
       "      <td>NaN</td>\n",
       "      <td>3.0</td>\n",
       "      <td>Tenderloin</td>\n",
       "      <td>94102.0</td>\n",
       "      <td>(37.78733980600732, -122.41063199757738)</td>\n",
       "      <td>1420164406718</td>\n",
       "    </tr>\n",
       "    <tr>\n",
       "      <th>2</th>\n",
       "      <td>201605278609</td>\n",
       "      <td>3</td>\n",
       "      <td>additions alterations or repairs</td>\n",
       "      <td>05/27/2016</td>\n",
       "      <td>0595</td>\n",
       "      <td>203</td>\n",
       "      <td>1647</td>\n",
       "      <td>NaN</td>\n",
       "      <td>Pacific</td>\n",
       "      <td>Av</td>\n",
       "      <td>...</td>\n",
       "      <td>1.0</td>\n",
       "      <td>constr type 1</td>\n",
       "      <td>1.0</td>\n",
       "      <td>constr type 1</td>\n",
       "      <td>NaN</td>\n",
       "      <td>3.0</td>\n",
       "      <td>Russian Hill</td>\n",
       "      <td>94109.0</td>\n",
       "      <td>(37.7946573324287, -122.42232562979227)</td>\n",
       "      <td>1424856504716</td>\n",
       "    </tr>\n",
       "    <tr>\n",
       "      <th>3</th>\n",
       "      <td>201611072166</td>\n",
       "      <td>8</td>\n",
       "      <td>otc alterations permit</td>\n",
       "      <td>11/07/2016</td>\n",
       "      <td>0156</td>\n",
       "      <td>011</td>\n",
       "      <td>1230</td>\n",
       "      <td>NaN</td>\n",
       "      <td>Pacific</td>\n",
       "      <td>Av</td>\n",
       "      <td>...</td>\n",
       "      <td>5.0</td>\n",
       "      <td>wood frame (5)</td>\n",
       "      <td>5.0</td>\n",
       "      <td>wood frame (5)</td>\n",
       "      <td>NaN</td>\n",
       "      <td>3.0</td>\n",
       "      <td>Nob Hill</td>\n",
       "      <td>94109.0</td>\n",
       "      <td>(37.79595867909168, -122.41557405519474)</td>\n",
       "      <td>1443574295566</td>\n",
       "    </tr>\n",
       "    <tr>\n",
       "      <th>4</th>\n",
       "      <td>201611283529</td>\n",
       "      <td>6</td>\n",
       "      <td>demolitions</td>\n",
       "      <td>11/28/2016</td>\n",
       "      <td>0342</td>\n",
       "      <td>001</td>\n",
       "      <td>950</td>\n",
       "      <td>NaN</td>\n",
       "      <td>Market</td>\n",
       "      <td>St</td>\n",
       "      <td>...</td>\n",
       "      <td>3.0</td>\n",
       "      <td>constr type 3</td>\n",
       "      <td>NaN</td>\n",
       "      <td>NaN</td>\n",
       "      <td>NaN</td>\n",
       "      <td>6.0</td>\n",
       "      <td>Tenderloin</td>\n",
       "      <td>94102.0</td>\n",
       "      <td>(37.78315261897309, -122.40950883997789)</td>\n",
       "      <td>144548169992</td>\n",
       "    </tr>\n",
       "  </tbody>\n",
       "</table>\n",
       "<p>5 rows × 43 columns</p>\n",
       "</div>"
      ],
      "text/plain": [
       "  Permit Number  Permit Type            Permit Type Definition  \\\n",
       "0  201505065519            4                      sign - erect   \n",
       "1  201604195146            4                      sign - erect   \n",
       "2  201605278609            3  additions alterations or repairs   \n",
       "3  201611072166            8            otc alterations permit   \n",
       "4  201611283529            6                       demolitions   \n",
       "\n",
       "  Permit Creation Date Block  Lot  Street Number Street Number Suffix  \\\n",
       "0           05/06/2015  0326  023            140                  NaN   \n",
       "1           04/19/2016  0306  007            440                  NaN   \n",
       "2           05/27/2016  0595  203           1647                  NaN   \n",
       "3           11/07/2016  0156  011           1230                  NaN   \n",
       "4           11/28/2016  0342  001            950                  NaN   \n",
       "\n",
       "  Street Name Street Suffix  ...  Existing Construction Type  \\\n",
       "0       Ellis            St  ...                         3.0   \n",
       "1       Geary            St  ...                         3.0   \n",
       "2     Pacific            Av  ...                         1.0   \n",
       "3     Pacific            Av  ...                         5.0   \n",
       "4      Market            St  ...                         3.0   \n",
       "\n",
       "  Existing Construction Type Description Proposed Construction Type  \\\n",
       "0                          constr type 3                        NaN   \n",
       "1                          constr type 3                        NaN   \n",
       "2                          constr type 1                        1.0   \n",
       "3                         wood frame (5)                        5.0   \n",
       "4                          constr type 3                        NaN   \n",
       "\n",
       "  Proposed Construction Type Description Site Permit Supervisor District  \\\n",
       "0                                    NaN         NaN                 3.0   \n",
       "1                                    NaN         NaN                 3.0   \n",
       "2                          constr type 1         NaN                 3.0   \n",
       "3                         wood frame (5)         NaN                 3.0   \n",
       "4                                    NaN         NaN                 6.0   \n",
       "\n",
       "  Neighborhoods - Analysis Boundaries  Zipcode  \\\n",
       "0                          Tenderloin  94102.0   \n",
       "1                          Tenderloin  94102.0   \n",
       "2                        Russian Hill  94109.0   \n",
       "3                            Nob Hill  94109.0   \n",
       "4                          Tenderloin  94102.0   \n",
       "\n",
       "                                    Location      Record ID  \n",
       "0  (37.785719256680785, -122.40852313194863)  1380611233945  \n",
       "1   (37.78733980600732, -122.41063199757738)  1420164406718  \n",
       "2    (37.7946573324287, -122.42232562979227)  1424856504716  \n",
       "3   (37.79595867909168, -122.41557405519474)  1443574295566  \n",
       "4   (37.78315261897309, -122.40950883997789)   144548169992  \n",
       "\n",
       "[5 rows x 43 columns]"
      ]
     },
     "execution_count": 3,
     "metadata": {},
     "output_type": "execute_result"
    }
   ],
   "source": [
    "# TODO: Your code here!\n",
    "sf_permits.head()"
   ]
  },
  {
   "cell_type": "markdown",
   "id": "e1d0bef7",
   "metadata": {
    "papermill": {
     "duration": 0.025405,
     "end_time": "2022-02-15T15:55:34.484765",
     "exception": false,
     "start_time": "2022-02-15T15:55:34.459360",
     "status": "completed"
    },
    "tags": []
   },
   "source": [
    "Does the dataset have any missing values?  Once you have an answer, run the code cell below to get credit for your work."
   ]
  },
  {
   "cell_type": "code",
   "execution_count": 4,
   "id": "0f61191a",
   "metadata": {
    "execution": {
     "iopub.execute_input": "2022-02-15T15:55:34.542213Z",
     "iopub.status.busy": "2022-02-15T15:55:34.541522Z",
     "iopub.status.idle": "2022-02-15T15:55:34.545400Z",
     "shell.execute_reply": "2022-02-15T15:55:34.545870Z",
     "shell.execute_reply.started": "2022-02-15T15:12:00.290662Z"
    },
    "papermill": {
     "duration": 0.03494,
     "end_time": "2022-02-15T15:55:34.546028",
     "exception": false,
     "start_time": "2022-02-15T15:55:34.511088",
     "status": "completed"
    },
    "tags": []
   },
   "outputs": [
    {
     "data": {
      "application/javascript": [
       "parent.postMessage({\"jupyterEvent\": \"custom.exercise_interaction\", \"data\": {\"outcomeType\": 1, \"valueTowardsCompletion\": 0.16666666666666666, \"interactionType\": 1, \"questionType\": 4, \"questionId\": \"1_TakeFirstLook\", \"learnToolsVersion\": \"0.3.4\", \"failureMessage\": \"\", \"exceptionClass\": \"\", \"trace\": \"\"}}, \"*\")"
      ],
      "text/plain": [
       "<IPython.core.display.Javascript object>"
      ]
     },
     "metadata": {},
     "output_type": "display_data"
    },
    {
     "data": {
      "text/markdown": [
       "<span style=\"color:#33cc33\">Correct:</span> \n",
       "\n",
       "The first five rows of the data does show that several columns have missing values.  You can see this in the \"Street Number Suffix\", \"Proposed Construction Type\" and \"Site Permit\" columns, among others."
      ],
      "text/plain": [
       "Correct: \n",
       "\n",
       "The first five rows of the data does show that several columns have missing values.  You can see this in the \"Street Number Suffix\", \"Proposed Construction Type\" and \"Site Permit\" columns, among others."
      ]
     },
     "metadata": {},
     "output_type": "display_data"
    }
   ],
   "source": [
    "# Check your answer (Run this code cell to receive credit!)\n",
    "q1.check()"
   ]
  },
  {
   "cell_type": "code",
   "execution_count": 5,
   "id": "5e5d5b60",
   "metadata": {
    "execution": {
     "iopub.execute_input": "2022-02-15T15:55:34.604750Z",
     "iopub.status.busy": "2022-02-15T15:55:34.604050Z",
     "iopub.status.idle": "2022-02-15T15:55:34.607401Z",
     "shell.execute_reply": "2022-02-15T15:55:34.606753Z"
    },
    "papermill": {
     "duration": 0.033149,
     "end_time": "2022-02-15T15:55:34.607556",
     "exception": false,
     "start_time": "2022-02-15T15:55:34.574407",
     "status": "completed"
    },
    "tags": []
   },
   "outputs": [],
   "source": [
    "# Line below will give you a hint\n",
    "#q1.hint()"
   ]
  },
  {
   "cell_type": "markdown",
   "id": "438a4285",
   "metadata": {
    "papermill": {
     "duration": 0.026571,
     "end_time": "2022-02-15T15:55:34.662886",
     "exception": false,
     "start_time": "2022-02-15T15:55:34.636315",
     "status": "completed"
    },
    "tags": []
   },
   "source": [
    "# 2) How many missing data points do we have?\n",
    "\n",
    "What percentage of the values in the dataset are missing?  Your answer should be a number between 0 and 100.  (If 1/4 of the values in the dataset are missing, the answer is 25.)"
   ]
  },
  {
   "cell_type": "code",
   "execution_count": 6,
   "id": "6b65b2b5",
   "metadata": {
    "execution": {
     "iopub.execute_input": "2022-02-15T15:55:34.723111Z",
     "iopub.status.busy": "2022-02-15T15:55:34.722415Z",
     "iopub.status.idle": "2022-02-15T15:55:35.228631Z",
     "shell.execute_reply": "2022-02-15T15:55:35.227898Z",
     "shell.execute_reply.started": "2022-02-15T15:21:19.192235Z"
    },
    "papermill": {
     "duration": 0.539042,
     "end_time": "2022-02-15T15:55:35.228794",
     "exception": false,
     "start_time": "2022-02-15T15:55:34.689752",
     "status": "completed"
    },
    "tags": []
   },
   "outputs": [
    {
     "name": "stdout",
     "output_type": "stream",
     "text": [
      "26.26002315058403\n"
     ]
    },
    {
     "data": {
      "application/javascript": [
       "parent.postMessage({\"jupyterEvent\": \"custom.exercise_interaction\", \"data\": {\"outcomeType\": 1, \"valueTowardsCompletion\": 0.16666666666666666, \"interactionType\": 1, \"questionType\": 1, \"questionId\": \"2_PercentMissingValues\", \"learnToolsVersion\": \"0.3.4\", \"failureMessage\": \"\", \"exceptionClass\": \"\", \"trace\": \"\"}}, \"*\")"
      ],
      "text/plain": [
       "<IPython.core.display.Javascript object>"
      ]
     },
     "metadata": {},
     "output_type": "display_data"
    },
    {
     "data": {
      "text/markdown": [
       "<span style=\"color:#33cc33\">Correct</span>"
      ],
      "text/plain": [
       "Correct"
      ]
     },
     "metadata": {},
     "output_type": "display_data"
    }
   ],
   "source": [
    "# TODO: Your code here!\n",
    "missing_values_count = sf_permits.isnull().sum()\n",
    "missing_values_count[0:10]\n",
    "\n",
    "total_cells = np.product(sf_permits.shape)\n",
    "total_missing = missing_values_count.sum()\n",
    "\n",
    "percent_missing = (total_missing/total_cells)*100\n",
    "print(percent_missing)\n",
    "# Check your answer\n",
    "q2.check()"
   ]
  },
  {
   "cell_type": "code",
   "execution_count": 7,
   "id": "6614e6de",
   "metadata": {
    "execution": {
     "iopub.execute_input": "2022-02-15T15:55:35.297816Z",
     "iopub.status.busy": "2022-02-15T15:55:35.297074Z",
     "iopub.status.idle": "2022-02-15T15:55:35.300221Z",
     "shell.execute_reply": "2022-02-15T15:55:35.299651Z"
    },
    "papermill": {
     "duration": 0.038108,
     "end_time": "2022-02-15T15:55:35.300380",
     "exception": false,
     "start_time": "2022-02-15T15:55:35.262272",
     "status": "completed"
    },
    "tags": []
   },
   "outputs": [],
   "source": [
    "# Lines below will give you a hint or solution code\n",
    "#q2.hint()\n",
    "#q2.solution()"
   ]
  },
  {
   "cell_type": "markdown",
   "id": "b17328e2",
   "metadata": {
    "papermill": {
     "duration": 0.030265,
     "end_time": "2022-02-15T15:55:35.360587",
     "exception": false,
     "start_time": "2022-02-15T15:55:35.330322",
     "status": "completed"
    },
    "tags": []
   },
   "source": [
    "# 3) Figure out why the data is missing\n",
    "\n",
    "Look at the columns **\"Street Number Suffix\"** and **\"Zipcode\"** from the [San Francisco Building Permits dataset](https://www.kaggle.com/aparnashastry/building-permit-applications-data). Both of these contain missing values. \n",
    "- Which, if either, are missing because they don't exist? \n",
    "- Which, if either, are missing because they weren't recorded?  \n",
    "\n",
    "Once you have an answer, run the code cell below."
   ]
  },
  {
   "cell_type": "code",
   "execution_count": 8,
   "id": "573a18eb",
   "metadata": {
    "execution": {
     "iopub.execute_input": "2022-02-15T15:55:35.426358Z",
     "iopub.status.busy": "2022-02-15T15:55:35.425661Z",
     "iopub.status.idle": "2022-02-15T15:55:35.429398Z",
     "shell.execute_reply": "2022-02-15T15:55:35.429943Z",
     "shell.execute_reply.started": "2022-02-15T15:24:54.840466Z"
    },
    "papermill": {
     "duration": 0.039622,
     "end_time": "2022-02-15T15:55:35.430110",
     "exception": false,
     "start_time": "2022-02-15T15:55:35.390488",
     "status": "completed"
    },
    "tags": []
   },
   "outputs": [
    {
     "data": {
      "application/javascript": [
       "parent.postMessage({\"jupyterEvent\": \"custom.exercise_interaction\", \"data\": {\"outcomeType\": 1, \"valueTowardsCompletion\": 0.16666666666666666, \"interactionType\": 1, \"questionType\": 4, \"questionId\": \"3_WhyDataMissing\", \"learnToolsVersion\": \"0.3.4\", \"failureMessage\": \"\", \"exceptionClass\": \"\", \"trace\": \"\"}}, \"*\")"
      ],
      "text/plain": [
       "<IPython.core.display.Javascript object>"
      ]
     },
     "metadata": {},
     "output_type": "display_data"
    },
    {
     "data": {
      "text/markdown": [
       "<span style=\"color:#33cc33\">Correct:</span> \n",
       "\n",
       "If a value in the \"Street Number Suffix\" column is missing, it is likely because it does not exist. If a value in the \"Zipcode\" column is missing, it was not recorded."
      ],
      "text/plain": [
       "Correct: \n",
       "\n",
       "If a value in the \"Street Number Suffix\" column is missing, it is likely because it does not exist. If a value in the \"Zipcode\" column is missing, it was not recorded."
      ]
     },
     "metadata": {},
     "output_type": "display_data"
    }
   ],
   "source": [
    "# Check your answer (Run this code cell to receive credit!)\n",
    "q3.check()"
   ]
  },
  {
   "cell_type": "code",
   "execution_count": 9,
   "id": "23d0f866",
   "metadata": {
    "execution": {
     "iopub.execute_input": "2022-02-15T15:55:35.497963Z",
     "iopub.status.busy": "2022-02-15T15:55:35.497248Z",
     "iopub.status.idle": "2022-02-15T15:55:35.500250Z",
     "shell.execute_reply": "2022-02-15T15:55:35.499583Z"
    },
    "papermill": {
     "duration": 0.039085,
     "end_time": "2022-02-15T15:55:35.500393",
     "exception": false,
     "start_time": "2022-02-15T15:55:35.461308",
     "status": "completed"
    },
    "tags": []
   },
   "outputs": [],
   "source": [
    "# Line below will give you a hint\n",
    "#q3.hint()"
   ]
  },
  {
   "cell_type": "markdown",
   "id": "e924e4d5",
   "metadata": {
    "papermill": {
     "duration": 0.031315,
     "end_time": "2022-02-15T15:55:35.563289",
     "exception": false,
     "start_time": "2022-02-15T15:55:35.531974",
     "status": "completed"
    },
    "tags": []
   },
   "source": [
    "# 4) Drop missing values: rows\n",
    "\n",
    "If you removed all of the rows of `sf_permits` with missing values, how many rows are left?\n",
    "\n",
    "**Note**: Do not change the value of `sf_permits` when checking this.  "
   ]
  },
  {
   "cell_type": "code",
   "execution_count": 10,
   "id": "42fceb90",
   "metadata": {
    "execution": {
     "iopub.execute_input": "2022-02-15T15:55:35.627691Z",
     "iopub.status.busy": "2022-02-15T15:55:35.627045Z",
     "iopub.status.idle": "2022-02-15T15:55:36.146927Z",
     "shell.execute_reply": "2022-02-15T15:55:36.146403Z",
     "shell.execute_reply.started": "2022-02-15T15:25:54.860149Z"
    },
    "papermill": {
     "duration": 0.553456,
     "end_time": "2022-02-15T15:55:36.147073",
     "exception": false,
     "start_time": "2022-02-15T15:55:35.593617",
     "status": "completed"
    },
    "tags": []
   },
   "outputs": [
    {
     "data": {
      "text/html": [
       "<div>\n",
       "<style scoped>\n",
       "    .dataframe tbody tr th:only-of-type {\n",
       "        vertical-align: middle;\n",
       "    }\n",
       "\n",
       "    .dataframe tbody tr th {\n",
       "        vertical-align: top;\n",
       "    }\n",
       "\n",
       "    .dataframe thead th {\n",
       "        text-align: right;\n",
       "    }\n",
       "</style>\n",
       "<table border=\"1\" class=\"dataframe\">\n",
       "  <thead>\n",
       "    <tr style=\"text-align: right;\">\n",
       "      <th></th>\n",
       "      <th>Permit Number</th>\n",
       "      <th>Permit Type</th>\n",
       "      <th>Permit Type Definition</th>\n",
       "      <th>Permit Creation Date</th>\n",
       "      <th>Block</th>\n",
       "      <th>Lot</th>\n",
       "      <th>Street Number</th>\n",
       "      <th>Street Number Suffix</th>\n",
       "      <th>Street Name</th>\n",
       "      <th>Street Suffix</th>\n",
       "      <th>...</th>\n",
       "      <th>Existing Construction Type</th>\n",
       "      <th>Existing Construction Type Description</th>\n",
       "      <th>Proposed Construction Type</th>\n",
       "      <th>Proposed Construction Type Description</th>\n",
       "      <th>Site Permit</th>\n",
       "      <th>Supervisor District</th>\n",
       "      <th>Neighborhoods - Analysis Boundaries</th>\n",
       "      <th>Zipcode</th>\n",
       "      <th>Location</th>\n",
       "      <th>Record ID</th>\n",
       "    </tr>\n",
       "  </thead>\n",
       "  <tbody>\n",
       "  </tbody>\n",
       "</table>\n",
       "<p>0 rows × 43 columns</p>\n",
       "</div>"
      ],
      "text/plain": [
       "Empty DataFrame\n",
       "Columns: [Permit Number, Permit Type, Permit Type Definition, Permit Creation Date, Block, Lot, Street Number, Street Number Suffix, Street Name, Street Suffix, Unit, Unit Suffix, Description, Current Status, Current Status Date, Filed Date, Issued Date, Completed Date, First Construction Document Date, Structural Notification, Number of Existing Stories, Number of Proposed Stories, Voluntary Soft-Story Retrofit, Fire Only Permit, Permit Expiration Date, Estimated Cost, Revised Cost, Existing Use, Existing Units, Proposed Use, Proposed Units, Plansets, TIDF Compliance, Existing Construction Type, Existing Construction Type Description, Proposed Construction Type, Proposed Construction Type Description, Site Permit, Supervisor District, Neighborhoods - Analysis Boundaries, Zipcode, Location, Record ID]\n",
       "Index: []\n",
       "\n",
       "[0 rows x 43 columns]"
      ]
     },
     "execution_count": 10,
     "metadata": {},
     "output_type": "execute_result"
    }
   ],
   "source": [
    "# TODO: Your code here!\n",
    "sf_permits.dropna()"
   ]
  },
  {
   "cell_type": "markdown",
   "id": "7e2fb886",
   "metadata": {
    "papermill": {
     "duration": 0.031074,
     "end_time": "2022-02-15T15:55:36.209039",
     "exception": false,
     "start_time": "2022-02-15T15:55:36.177965",
     "status": "completed"
    },
    "tags": []
   },
   "source": [
    "Once you have an answer, run the code cell below."
   ]
  },
  {
   "cell_type": "code",
   "execution_count": 11,
   "id": "b9bb7cc8",
   "metadata": {
    "execution": {
     "iopub.execute_input": "2022-02-15T15:55:36.278163Z",
     "iopub.status.busy": "2022-02-15T15:55:36.277392Z",
     "iopub.status.idle": "2022-02-15T15:55:36.282582Z",
     "shell.execute_reply": "2022-02-15T15:55:36.283121Z",
     "shell.execute_reply.started": "2022-02-15T15:26:13.586794Z"
    },
    "papermill": {
     "duration": 0.043159,
     "end_time": "2022-02-15T15:55:36.283313",
     "exception": false,
     "start_time": "2022-02-15T15:55:36.240154",
     "status": "completed"
    },
    "tags": []
   },
   "outputs": [
    {
     "data": {
      "application/javascript": [
       "parent.postMessage({\"jupyterEvent\": \"custom.exercise_interaction\", \"data\": {\"outcomeType\": 1, \"valueTowardsCompletion\": 0.16666666666666666, \"interactionType\": 1, \"questionType\": 4, \"questionId\": \"4_DropMissingRows\", \"learnToolsVersion\": \"0.3.4\", \"failureMessage\": \"\", \"exceptionClass\": \"\", \"trace\": \"\"}}, \"*\")"
      ],
      "text/plain": [
       "<IPython.core.display.Javascript object>"
      ]
     },
     "metadata": {},
     "output_type": "display_data"
    },
    {
     "data": {
      "text/markdown": [
       "<span style=\"color:#33cc33\">Correct:</span> \n",
       "\n",
       "There are no rows remaining in the dataset!"
      ],
      "text/plain": [
       "Correct: \n",
       "\n",
       "There are no rows remaining in the dataset!"
      ]
     },
     "metadata": {},
     "output_type": "display_data"
    }
   ],
   "source": [
    "# Check your answer (Run this code cell to receive credit!)\n",
    "q4.check()"
   ]
  },
  {
   "cell_type": "code",
   "execution_count": 12,
   "id": "ffb8c680",
   "metadata": {
    "execution": {
     "iopub.execute_input": "2022-02-15T15:55:36.352612Z",
     "iopub.status.busy": "2022-02-15T15:55:36.351585Z",
     "iopub.status.idle": "2022-02-15T15:55:36.354038Z",
     "shell.execute_reply": "2022-02-15T15:55:36.353443Z"
    },
    "papermill": {
     "duration": 0.038675,
     "end_time": "2022-02-15T15:55:36.354172",
     "exception": false,
     "start_time": "2022-02-15T15:55:36.315497",
     "status": "completed"
    },
    "tags": []
   },
   "outputs": [],
   "source": [
    "# Line below will give you a hint\n",
    "#q4.hint()"
   ]
  },
  {
   "cell_type": "markdown",
   "id": "032169bc",
   "metadata": {
    "papermill": {
     "duration": 0.031794,
     "end_time": "2022-02-15T15:55:36.418168",
     "exception": false,
     "start_time": "2022-02-15T15:55:36.386374",
     "status": "completed"
    },
    "tags": []
   },
   "source": [
    "# 5) Drop missing values: columns\n",
    "\n",
    "Now try removing all the columns with empty values.  \n",
    "- Create a new DataFrame called `sf_permits_with_na_dropped` that has all of the columns with empty values removed.  \n",
    "- How many columns were removed from the original `sf_permits` DataFrame? Use this number to set the value of the `dropped_columns` variable below."
   ]
  },
  {
   "cell_type": "code",
   "execution_count": 13,
   "id": "c964c1db",
   "metadata": {
    "execution": {
     "iopub.execute_input": "2022-02-15T15:55:36.486040Z",
     "iopub.status.busy": "2022-02-15T15:55:36.485034Z",
     "iopub.status.idle": "2022-02-15T15:55:37.005174Z",
     "shell.execute_reply": "2022-02-15T15:55:37.005776Z",
     "shell.execute_reply.started": "2022-02-15T15:34:24.951174Z"
    },
    "papermill": {
     "duration": 0.555695,
     "end_time": "2022-02-15T15:55:37.005940",
     "exception": false,
     "start_time": "2022-02-15T15:55:36.450245",
     "status": "completed"
    },
    "tags": []
   },
   "outputs": [
    {
     "data": {
      "application/javascript": [
       "parent.postMessage({\"jupyterEvent\": \"custom.exercise_interaction\", \"data\": {\"outcomeType\": 1, \"valueTowardsCompletion\": 0.16666666666666666, \"interactionType\": 1, \"questionType\": 1, \"questionId\": \"5_DropMissingCols\", \"learnToolsVersion\": \"0.3.4\", \"failureMessage\": \"\", \"exceptionClass\": \"\", \"trace\": \"\"}}, \"*\")"
      ],
      "text/plain": [
       "<IPython.core.display.Javascript object>"
      ]
     },
     "metadata": {},
     "output_type": "display_data"
    },
    {
     "data": {
      "text/markdown": [
       "<span style=\"color:#33cc33\">Correct</span>"
      ],
      "text/plain": [
       "Correct"
      ]
     },
     "metadata": {},
     "output_type": "display_data"
    }
   ],
   "source": [
    "# TODO: Your code here\n",
    "sf_permits_with_na_dropped = sf_permits.dropna(axis=1)\n",
    "sf_permits_with_na_dropped.head()\n",
    "\n",
    "dropped_columns = 31\n",
    "\n",
    "# Check your answer\n",
    "q5.check()"
   ]
  },
  {
   "cell_type": "code",
   "execution_count": 14,
   "id": "2b6d2d5d",
   "metadata": {
    "execution": {
     "iopub.execute_input": "2022-02-15T15:55:37.078725Z",
     "iopub.status.busy": "2022-02-15T15:55:37.077979Z",
     "iopub.status.idle": "2022-02-15T15:55:37.083714Z",
     "shell.execute_reply": "2022-02-15T15:55:37.084226Z",
     "shell.execute_reply.started": "2022-02-15T15:32:40.794008Z"
    },
    "papermill": {
     "duration": 0.043542,
     "end_time": "2022-02-15T15:55:37.084392",
     "exception": false,
     "start_time": "2022-02-15T15:55:37.040850",
     "status": "completed"
    },
    "tags": []
   },
   "outputs": [
    {
     "data": {
      "application/javascript": [
       "parent.postMessage({\"jupyterEvent\": \"custom.exercise_interaction\", \"data\": {\"interactionType\": 2, \"questionType\": 1, \"questionId\": \"5_DropMissingCols\", \"learnToolsVersion\": \"0.3.4\", \"valueTowardsCompletion\": 0.0, \"failureMessage\": \"\", \"exceptionClass\": \"\", \"trace\": \"\", \"outcomeType\": 4}}, \"*\")"
      ],
      "text/plain": [
       "<IPython.core.display.Javascript object>"
      ]
     },
     "metadata": {},
     "output_type": "display_data"
    },
    {
     "data": {
      "text/markdown": [
       "<span style=\"color:#3366cc\">Hint:</span> You can begin by getting the dropping all columns with missing values with `sf_permits.dropna(axis=1)`."
      ],
      "text/plain": [
       "Hint: You can begin by getting the dropping all columns with missing values with `sf_permits.dropna(axis=1)`."
      ]
     },
     "metadata": {},
     "output_type": "display_data"
    }
   ],
   "source": [
    "# Lines below will give you a hint or solution code\n",
    "q5.hint()\n",
    "#q5.solution()"
   ]
  },
  {
   "cell_type": "markdown",
   "id": "7da636da",
   "metadata": {
    "papermill": {
     "duration": 0.03476,
     "end_time": "2022-02-15T15:55:37.154988",
     "exception": false,
     "start_time": "2022-02-15T15:55:37.120228",
     "status": "completed"
    },
    "tags": []
   },
   "source": [
    "# 6) Fill in missing values automatically\n",
    "\n",
    "Try replacing all the NaN's in the `sf_permits` data with the one that comes directly after it and then replacing any remaining NaN's with 0.  Set the result to a new DataFrame `sf_permits_with_na_imputed`."
   ]
  },
  {
   "cell_type": "code",
   "execution_count": 15,
   "id": "b829dd90",
   "metadata": {
    "execution": {
     "iopub.execute_input": "2022-02-15T15:55:37.228864Z",
     "iopub.status.busy": "2022-02-15T15:55:37.228074Z",
     "iopub.status.idle": "2022-02-15T15:55:38.807071Z",
     "shell.execute_reply": "2022-02-15T15:55:38.807621Z",
     "shell.execute_reply.started": "2022-02-15T15:47:54.539861Z"
    },
    "papermill": {
     "duration": 1.617992,
     "end_time": "2022-02-15T15:55:38.807811",
     "exception": false,
     "start_time": "2022-02-15T15:55:37.189819",
     "status": "completed"
    },
    "tags": []
   },
   "outputs": [
    {
     "data": {
      "application/javascript": [
       "parent.postMessage({\"jupyterEvent\": \"custom.exercise_interaction\", \"data\": {\"outcomeType\": 1, \"valueTowardsCompletion\": 0.16666666666666666, \"interactionType\": 1, \"questionType\": 1, \"questionId\": \"6_ImputeAutomatically\", \"learnToolsVersion\": \"0.3.4\", \"failureMessage\": \"\", \"exceptionClass\": \"\", \"trace\": \"\"}}, \"*\")"
      ],
      "text/plain": [
       "<IPython.core.display.Javascript object>"
      ]
     },
     "metadata": {},
     "output_type": "display_data"
    },
    {
     "data": {
      "text/markdown": [
       "<span style=\"color:#33cc33\">Correct</span>"
      ],
      "text/plain": [
       "Correct"
      ]
     },
     "metadata": {},
     "output_type": "display_data"
    }
   ],
   "source": [
    "# TODO: Your code here\n",
    "sf_permits_with_na_imputed = sf_permits.fillna(method='bfill', axis=0).fillna(0)\n",
    "\n",
    "# Check your answer\n",
    "q6.check()"
   ]
  },
  {
   "cell_type": "code",
   "execution_count": 16,
   "id": "d4767f16",
   "metadata": {
    "execution": {
     "iopub.execute_input": "2022-02-15T15:55:38.887990Z",
     "iopub.status.busy": "2022-02-15T15:55:38.887314Z",
     "iopub.status.idle": "2022-02-15T15:55:38.888669Z",
     "shell.execute_reply": "2022-02-15T15:55:38.889239Z",
     "shell.execute_reply.started": "2022-02-15T15:47:33.723995Z"
    },
    "papermill": {
     "duration": 0.042886,
     "end_time": "2022-02-15T15:55:38.889394",
     "exception": false,
     "start_time": "2022-02-15T15:55:38.846508",
     "status": "completed"
    },
    "tags": []
   },
   "outputs": [],
   "source": [
    "# Lines below will give you a hint or solution code\n",
    "#q6.hint()\n",
    "#q6.solution()"
   ]
  },
  {
   "cell_type": "markdown",
   "id": "c2058bc1",
   "metadata": {
    "papermill": {
     "duration": 0.036094,
     "end_time": "2022-02-15T15:55:38.961647",
     "exception": false,
     "start_time": "2022-02-15T15:55:38.925553",
     "status": "completed"
    },
    "tags": []
   },
   "source": [
    "# More practice\n",
    "\n",
    "If you're looking for more practice handling missing values:\n",
    "\n",
    "* Check out [this noteboook](https://www.kaggle.com/alexisbcook/missing-values) on handling missing values using scikit-learn's imputer. \n",
    "* Look back at the \"Zipcode\" column in the `sf_permits` dataset, which has some missing values. How would you go about figuring out what the actual zipcode of each address should be? (You might try using another dataset. You can search for datasets about San Fransisco on the [Datasets listing](https://www.kaggle.com/datasets).) \n",
    "\n",
    "# Keep going\n",
    "\n",
    "In the next lesson, learn how to [**apply scaling and normalization**](https://www.kaggle.com/alexisbcook/scaling-and-normalization) to transform your data."
   ]
  },
  {
   "cell_type": "markdown",
   "id": "6679c7c4",
   "metadata": {
    "papermill": {
     "duration": 0.037042,
     "end_time": "2022-02-15T15:55:39.035059",
     "exception": false,
     "start_time": "2022-02-15T15:55:38.998017",
     "status": "completed"
    },
    "tags": []
   },
   "source": [
    "---\n",
    "\n",
    "\n",
    "\n",
    "\n",
    "*Have questions or comments? Visit the [course discussion forum](https://www.kaggle.com/learn/data-cleaning/discussion) to chat with other learners.*"
   ]
  }
 ],
 "metadata": {
  "kernelspec": {
   "display_name": "Python 3",
   "language": "python",
   "name": "python3"
  },
  "language_info": {
   "codemirror_mode": {
    "name": "ipython",
    "version": 3
   },
   "file_extension": ".py",
   "mimetype": "text/x-python",
   "name": "python",
   "nbconvert_exporter": "python",
   "pygments_lexer": "ipython3",
   "version": "3.7.12"
  },
  "papermill": {
   "default_parameters": {},
   "duration": 22.323686,
   "end_time": "2022-02-15T15:55:39.781565",
   "environment_variables": {},
   "exception": null,
   "input_path": "__notebook__.ipynb",
   "output_path": "__notebook__.ipynb",
   "parameters": {},
   "start_time": "2022-02-15T15:55:17.457879",
   "version": "2.3.3"
  }
 },
 "nbformat": 4,
 "nbformat_minor": 5
}
